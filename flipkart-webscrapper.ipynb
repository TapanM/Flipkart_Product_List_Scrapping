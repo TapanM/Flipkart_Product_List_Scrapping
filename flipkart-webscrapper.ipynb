{
 "cells": [
  {
   "cell_type": "markdown",
   "id": "357cbf99-181c-4466-b45e-aa46f4c11579",
   "metadata": {},
   "source": [
    "# Selenium and BeautifulSoup"
   ]
  },
  {
   "cell_type": "code",
   "execution_count": 1,
   "id": "743e7d01-a957-4c64-9191-40f3aa91ddd6",
   "metadata": {},
   "outputs": [],
   "source": [
    "from selenium import webdriver\n",
    "from selenium.webdriver.chrome.options import Options\n",
    "import csv"
   ]
  },
  {
   "cell_type": "code",
   "execution_count": 2,
   "id": "8b95dcab-1d45-4f40-a8a1-cdd8ce183164",
   "metadata": {},
   "outputs": [],
   "source": [
    "from selenium.webdriver.common.keys import Keys\n",
    "from selenium.webdriver.common.by import By\n",
    "from selenium.common.exceptions import NoSuchElementException"
   ]
  },
  {
   "cell_type": "code",
   "execution_count": 3,
   "id": "69615ea4-d17b-4469-9441-965187343d22",
   "metadata": {},
   "outputs": [],
   "source": [
    "def generate_url(search_term):\n",
    "    base_template = \"https://www.flipkart.com/search?q={}&otracker=search&otracker1=search&marketplace=FLIPKART&as-show=on&as=off\"\n",
    "    return base_template.format(search_term)"
   ]
  },
  {
   "cell_type": "markdown",
   "id": "66f4fe9b-b95a-4064-96a6-b2fc0c7a18e5",
   "metadata": {},
   "source": [
    "### Creating Chrome Driver"
   ]
  },
  {
   "cell_type": "code",
   "execution_count": 4,
   "id": "2fca5dab-4c3f-42ad-91d6-df5570561701",
   "metadata": {},
   "outputs": [],
   "source": [
    "def create_driver()-> webdriver.Chrome:\n",
    "    options = Options()\n",
    "    options.add_argument(\"--headless\") #No GUI, run on background\n",
    "    driver = webdriver.Chrome(options=options)\n",
    "    return driver"
   ]
  },
  {
   "cell_type": "markdown",
   "id": "6bd6162f-1eb4-4ad8-8287-a6bfa6cc8787",
   "metadata": {},
   "source": [
    "## Generate File Name"
   ]
  },
  {
   "cell_type": "code",
   "execution_count": 5,
   "id": "47d14fef-a11e-4c68-bcb2-76701b6c64cc",
   "metadata": {},
   "outputs": [],
   "source": [
    "def generate_filename(search_item):\n",
    "    filename = '_'.join(search_item.split(' '))\n",
    "    return filename +'.csv'"
   ]
  },
  {
   "cell_type": "markdown",
   "id": "593726d1-8a8a-4f2d-8c8c-c9894d536a70",
   "metadata": {},
   "source": [
    "## Collect the Products List from Current Page"
   ]
  },
  {
   "cell_type": "code",
   "execution_count": 6,
   "id": "fd7acc3a-a55e-49c8-ba07-d8dbcf365f9a",
   "metadata": {},
   "outputs": [],
   "source": [
    "def collect_products_list(driver):\n",
    "    products = driver.find_elements(By.CLASS_NAME, \"tUxRFH\")\n",
    "    return products"
   ]
  },
  {
   "cell_type": "markdown",
   "id": "16ae8248-dbbb-4cbc-bab2-58c85275974d",
   "metadata": {},
   "source": [
    "### Collect info from specific products"
   ]
  },
  {
   "cell_type": "code",
   "execution_count": 7,
   "id": "17f1f16e-c401-4d83-ad05-83f5d568c9fc",
   "metadata": {},
   "outputs": [],
   "source": [
    "def extract_product_data(product):\n",
    "    title = product.find_element(By.CLASS_NAME, \"KzDlHZ\").text\n",
    "        \n",
    "    # EXTRACTING PRICE\n",
    "    price = product.find_element(By.XPATH, \".//div[@class='Nx9bqj _4b5DiR']\").text\n",
    "        \n",
    "    # EXTRACTING REVIEW\n",
    "    try:\n",
    "        review = product.find_element(By.CLASS_NAME, \"XQDdHH\").text\n",
    "    except:\n",
    "        review=\"NULL\"\n",
    "        \n",
    "    # EXTRACTING LINK\n",
    "    link = product.find_element(By.CLASS_NAME, \"CGtC98\").get_attribute('href')\n",
    "\n",
    "    return title, price, review, link\n",
    "    "
   ]
  },
  {
   "cell_type": "markdown",
   "id": "836fe66a-5a78-4bc2-a768-7fc152446709",
   "metadata": {},
   "source": [
    "### Import data into CSV"
   ]
  },
  {
   "cell_type": "code",
   "execution_count": 8,
   "id": "d723ef57-e423-47d9-ab41-b0d55e15c2ae",
   "metadata": {},
   "outputs": [],
   "source": [
    "def save_data_to_csv(record, filename, new_file=False):\n",
    "    header = ['Title', 'Price', 'Review', 'Link']\n",
    "    if new_file:\n",
    "        with open(filename, 'w', newline='', encoding='utf-8') as f:\n",
    "            writer = csv.writer(f)\n",
    "            writer.writerow(header)\n",
    "    else:\n",
    "        with open(filename, 'a+', newline='', encoding='utf-8') as f:\n",
    "            writer = csv.writer(f)\n",
    "            writer.writerow(record)"
   ]
  },
  {
   "cell_type": "code",
   "execution_count": 9,
   "id": "64918763-d648-4e30-99b1-88025684a245",
   "metadata": {},
   "outputs": [],
   "source": [
    "\n",
    "# header = ['Title', 'Price', 'Review', 'Link']\n",
    "# with open('laptop_list.csv', 'w', newline='', encoding='utf-8') as f:\n",
    "#     writer = csv.writer(f)\n",
    "#     writer.writerow(header)\n",
    "#     writer.writerow(record)"
   ]
  },
  {
   "cell_type": "code",
   "execution_count": 10,
   "id": "cd9c2b5c-ad45-4ae3-8694-1001456c0e6e",
   "metadata": {},
   "outputs": [],
   "source": [
    "# for page in range(1,21):\n",
    "#     base_url = generate_url(\"laptop\") + \"&page={}\"\n",
    "#     f_url = base_url.format(page)\n",
    "    \n",
    "#     driver.get(f_url)\n",
    "#     products = driver.find_elements(By.CLASS_NAME, \"tUxRFH\")\n",
    "    \n",
    "#     with open('laptop_list.csv', 'a+', newline='', encoding='utf-8') as f:\n",
    "#         writer = csv.writer(f)\n",
    "#         for product in products:\n",
    "#             # EXTRACTING TITLE/DESCRIPTIONS\n",
    "#             title = product.find_element(By.CLASS_NAME, \"KzDlHZ\").text\n",
    "        \n",
    "#             # EXTRACTING PRICE\n",
    "#             price = product.find_element(By.XPATH, \".//div[@class='Nx9bqj _4b5DiR']\").text\n",
    "        \n",
    "#             # EXTRACTING REVIEW\n",
    "#             try:\n",
    "#                 review = product.find_element(By.CLASS_NAME, \"XQDdHH\").text\n",
    "#             except:\n",
    "#                 review=\"NULL\"\n",
    "        \n",
    "#             # EXTRACTING LINK\n",
    "#             link = product.find_element(By.CLASS_NAME, \"CGtC98\").get_attribute('href')\n",
    "    \n",
    "#             writer.writerow([title, price, review, link])\n",
    "#     driver.quit()"
   ]
  },
  {
   "cell_type": "code",
   "execution_count": 13,
   "id": "b3c1c40c-e3ab-4719-b0ec-510f4523d420",
   "metadata": {},
   "outputs": [],
   "source": [
    "def run(search_item):\n",
    "    filename = generate_filename(search_item)\n",
    "    save_data_to_csv(None, filename, new_file = True)\n",
    "    driver = create_driver()\n",
    "    for page in range(1,21):\n",
    "        url = generate_url(search_item)\n",
    "        driver.get(url)\n",
    "\n",
    "        # Extract the products info\n",
    "        products = collect_products_list(driver)\n",
    "        for product in products:\n",
    "            record = extract_product_data(product)\n",
    "            save_data_to_csv(record, filename)\n",
    "    driver.quit()\n",
    "        "
   ]
  },
  {
   "cell_type": "code",
   "execution_count": 14,
   "id": "e07275d9-d8a8-4d2a-9d93-ba53fed65b3e",
   "metadata": {},
   "outputs": [],
   "source": [
    "if __name__ == '__main__':\n",
    "    item = 'laptop'\n",
    "    run(item)"
   ]
  },
  {
   "cell_type": "code",
   "execution_count": null,
   "id": "00687010-0bc7-4593-b1de-d5c27798c791",
   "metadata": {},
   "outputs": [],
   "source": []
  }
 ],
 "metadata": {
  "kernelspec": {
   "display_name": "Python 3 (ipykernel)",
   "language": "python",
   "name": "python3"
  },
  "language_info": {
   "codemirror_mode": {
    "name": "ipython",
    "version": 3
   },
   "file_extension": ".py",
   "mimetype": "text/x-python",
   "name": "python",
   "nbconvert_exporter": "python",
   "pygments_lexer": "ipython3",
   "version": "3.13.2"
  }
 },
 "nbformat": 4,
 "nbformat_minor": 5
}
